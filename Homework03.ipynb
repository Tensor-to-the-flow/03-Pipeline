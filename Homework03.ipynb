{
 "cells": [
  {
   "cell_type": "code",
   "execution_count": 18,
   "metadata": {
    "executionInfo": {
     "elapsed": 568,
     "status": "ok",
     "timestamp": 1605278449143,
     "user": {
      "displayName": "Heizas",
      "photoUrl": "https://lh3.googleusercontent.com/a-/AOh14GjBSz45p53xJwpJ_CdBLR5D9RiKfje__0D0IrFK=s64",
      "userId": "07740536896006343917"
     },
     "user_tz": -60
    },
    "id": "kq1N-24WRsix"
   },
   "outputs": [],
   "source": [
    "import numpy as np\n",
    "import tensorflow as tf\n",
    "import tensorflow_datasets as tfds\n",
    "import matplotlib.pyplot as plt"
   ]
  },
  {
   "cell_type": "code",
   "execution_count": 2,
   "metadata": {
    "id": "V7zQw7RERy9M"
   },
   "outputs": [
    {
     "name": "stdout",
     "output_type": "stream",
     "text": [
      "\u001b[1mDownloading and preparing dataset genomics_ood/0.0.1 (download: Unknown size, generated: 926.87 MiB, total: 926.87 MiB) to /Users/floyd/tensorflow_datasets/genomics_ood/0.0.1...\u001b[0m\n"
     ]
    },
    {
     "name": "stderr",
     "output_type": "stream",
     "text": [
      "WARNING:absl:Dataset genomics_ood is hosted on GCS. It will automatically be downloaded to your\n",
      "local data directory. If you'd instead prefer to read directly from our public\n",
      "GCS bucket (recommended if you're running on GCP), you can instead pass\n",
      "`try_gcs=True` to `tfds.load` or set `data_dir=gs://tfds-data/datasets`.\n",
      "\n"
     ]
    },
    {
     "data": {
      "application/vnd.jupyter.widget-view+json": {
       "model_id": "10a9795cddf94524859aed574071db3e",
       "version_major": 2,
       "version_minor": 0
      },
      "text/plain": [
       "HBox(children=(HTML(value='Dl Completed...'), FloatProgress(value=0.0, max=12.0), HTML(value='')))"
      ]
     },
     "metadata": {},
     "output_type": "display_data"
    },
    {
     "name": "stdout",
     "output_type": "stream",
     "text": [
      "\n",
      "\n",
      "\u001b[1mDataset genomics_ood downloaded and prepared to /Users/floyd/tensorflow_datasets/genomics_ood/0.0.1. Subsequent calls will reuse this data.\u001b[0m\n"
     ]
    }
   ],
   "source": [
    "# Load dataset in batch sizes\n",
    "train_rawdata, test_rawdata = tfds.load('genomics_ood', split=['train[:80%]', 'train[20%:]'], as_supervised=True)"
   ]
  },
  {
   "cell_type": "code",
   "execution_count": 3,
   "metadata": {
    "id": "FDsbRyo7supa"
   },
   "outputs": [],
   "source": [
    "# Only take a sample of the whole dataset\n",
    "train_rawdata = train_rawdata.take(100000)\n",
    "test_rawdata = test_rawdata.take(1000)"
   ]
  },
  {
   "cell_type": "code",
   "execution_count": 4,
   "metadata": {
    "id": "x2n5jYwHcVc6"
   },
   "outputs": [],
   "source": [
    "def onehotify(tensor):\n",
    "    # Function to one hotify the genome string sequence to a one hot vector\n",
    "    vocab = {'A':'1','C':'2','G':'3','T':'0'}\n",
    "        for key in vocab.keys():\n",
    "            tensor = tf.strings.regex_replace(tensor, key, vocab[key])\n",
    "    split = tf.strings.bytes_split(tensor)\n",
    "    labels = tf.cast(tf.strings.to_number(split), tf.uint8)\n",
    "    onehot = tf.one_hot(labels, 4)\n",
    "    onehot = tf.reshape(onehot, (-1,))\n",
    "    return onehot"
   ]
  },
  {
   "cell_type": "code",
   "execution_count": 5,
   "metadata": {
    "executionInfo": {
     "elapsed": 586,
     "status": "ok",
     "timestamp": 1605278421266,
     "user": {
      "displayName": "Heizas",
      "photoUrl": "https://lh3.googleusercontent.com/a-/AOh14GjBSz45p53xJwpJ_CdBLR5D9RiKfje__0D0IrFK=s64",
      "userId": "07740536896006343917"
     },
     "user_tz": -60
    },
    "id": "nlc8YvhjS-M9"
   },
   "outputs": [],
   "source": [
    "# Map to onehotvectors\n",
    "train_ds = train_rawdata.map(lambda x, y: (onehotify(x), tf.one_hot(y, 10)))\n",
    "test_ds = test_rawdata.map(lambda x, y: (onehotify(x), tf.one_hot(y, 10)))\n",
    "\n",
    "# Batch data\n",
    "train_ds = train_ds.batch(256)\n",
    "test_ds = test_ds.batch(128)\n",
    "\n",
    "# Shuffle data\n",
    "train_ds = train_ds.shuffle(buffer_size=256)\n",
    "test_ds = test_ds.shuffle(buffer_size=128)\n",
    "\n",
    "# Prefetch data\n",
    "train_ds = train_ds.prefetch(128)\n",
    "test_ds = test_ds.prefetch(128)"
   ]
  },
  {
   "cell_type": "code",
   "execution_count": null,
   "metadata": {
    "colab": {
     "base_uri": "https://localhost:8080/"
    },
    "executionInfo": {
     "elapsed": 649,
     "status": "ok",
     "timestamp": 1605277647267,
     "user": {
      "displayName": "Heizas",
      "photoUrl": "https://lh3.googleusercontent.com/a-/AOh14GjBSz45p53xJwpJ_CdBLR5D9RiKfje__0D0IrFK=s64",
      "userId": "07740536896006343917"
     },
     "user_tz": -60
    },
    "id": "27jiZN3l8sSm",
    "outputId": "b9a04f3b-a295-41fd-ff20-d47c8b7a3e1a"
   },
   "outputs": [
    {
     "data": {
      "text/plain": [
       "8"
      ]
     },
     "execution_count": 16,
     "metadata": {
      "tags": []
     },
     "output_type": "execute_result"
    }
   ],
   "source": [
    "len(test_ds)"
   ]
  },
  {
   "cell_type": "markdown",
   "metadata": {
    "id": "A4T-6vS31rU3"
   },
   "source": [
    "##2. Model\n",
    "We will implement a simple fully connected feed forward neural network like the lasttime.  Our network will have the following layers:•Hidden layer 1:  256 units.  With sigmoid activation function.•Hidden layer 2:  256 units.  With sigmoid activation function.•Output:  10 units.  With softmax activation function.Instead of implementing our own layer we directly implement the network using pre-built layers from TensorFlow (keras)"
   ]
  },
  {
   "cell_type": "code",
   "execution_count": 6,
   "metadata": {
    "id": "-PIV8Z6g1t-6"
   },
   "outputs": [],
   "source": [
    "from tensorflow.keras import Model\n",
    "from tensorflow.keras.layers import Layer\n",
    "\n",
    "class Model(Model):\n",
    "\n",
    "    def __init__(self):\n",
    "        super(Model, self).__init__()\n",
    "\n",
    "        self.hidden_layer_1 = tf.keras.layers.Dense(units=256,\n",
    "                                                    activation=tf.keras.activations.sigmoid\n",
    "                                                    )\n",
    "\n",
    "        self.hidden_layer_2 = tf.keras.layers.Dense(units=256,\n",
    "                                                    activation=tf.keras.activations.sigmoid\n",
    "                                                    )\n",
    "\n",
    "        self.output_layer = tf.keras.layers.Dense(units=10,\n",
    "                                                  activation=tf.keras.activations.softmax\n",
    "                                                  )\n",
    "    \n",
    "    def call(self, x):\n",
    "        # Forwardstep\n",
    "        x = self.hidden_layer_1(x)\n",
    "        x = self.hidden_layer_2(x)\n",
    "        x = self.output_layer(x)\n",
    "        return x"
   ]
  },
  {
   "cell_type": "markdown",
   "metadata": {
    "id": "vVtdh5v-6xl_"
   },
   "source": [
    "## Helper Functions"
   ]
  },
  {
   "cell_type": "code",
   "execution_count": 7,
   "metadata": {
    "executionInfo": {
     "elapsed": 1505,
     "status": "ok",
     "timestamp": 1605278889808,
     "user": {
      "displayName": "Heizas",
      "photoUrl": "https://lh3.googleusercontent.com/a-/AOh14GjBSz45p53xJwpJ_CdBLR5D9RiKfje__0D0IrFK=s64",
      "userId": "07740536896006343917"
     },
     "user_tz": -60
    },
    "id": "n10oQrz23UH3"
   },
   "outputs": [],
   "source": [
    "def train_step(model, input, target, loss_function, optimizer):\n",
    "    # loss_object and optimizer_object are instances of respective tensorflow classes\n",
    "    with tf.GradientTape() as tape:\n",
    "        prediction = model(input)\n",
    "        loss = loss_function(target, prediction)\n",
    "        gradients = tape.gradient(loss, model.trainable_variables)\n",
    "    optimizer.apply_gradients(zip(gradients, model.trainable_variables))\n",
    "    return loss \n",
    "\n",
    "def test(model, test_data, loss_function):\n",
    "    # test over complete test data\n",
    "\n",
    "    test_accuracy_aggregator = []\n",
    "    test_loss_aggregator = []\n",
    "\n",
    "    for (input, target) in test_data:\n",
    "        #print(\"input shape\", input.shape)\n",
    "        #print(\"targetshape: \", target.shape)\n",
    "        prediction = model(input)\n",
    "        sample_test_loss = loss_function(target, prediction)\n",
    "        sample_test_accuracy =  np.argmax(target, axis=1) == np.argmax(prediction, axis=1)\n",
    "        sample_test_accuracy = np.mean(sample_test_accuracy)\n",
    "        test_loss_aggregator.append(sample_test_loss.numpy())\n",
    "        test_accuracy_aggregator.append(np.mean(sample_test_accuracy))\n",
    "\n",
    "    test_loss = np.mean(test_loss_aggregator)\n",
    "    test_accuracy = np.mean(test_accuracy_aggregator)\n",
    "\n",
    "    return test_loss, test_accuracy"
   ]
  },
  {
   "cell_type": "markdown",
   "metadata": {
    "id": "1IX25ozE3RWb"
   },
   "source": [
    "## 3. Training\n",
    "Then train your network for 10 epochs using a learning rate of 0.1.\n",
    "\n",
    "As a loss use the categorical cross entropy. As an optimizer use SGD.\n",
    "\n",
    "For the training loop you can use the MNIST notebook on Courseware as an orientation to try to build one yourself. You can, but you don’t have to, compute the loss of eachstep with the running average, as we did it in the MNIST notebook. For this task, an accuracy of 35 - 40% is sufficient."
   ]
  },
  {
   "cell_type": "code",
   "execution_count": 19,
   "metadata": {},
   "outputs": [
    {
     "name": "stdout",
     "output_type": "stream",
     "text": [
      "Epoch: __ 0\n",
      "Epoch: __ 1\n",
      "Epoch: __ 2\n",
      "Epoch: __ 3\n",
      "Epoch: __ 4\n",
      "Epoch: __ 5\n",
      "Epoch: __ 6\n",
      "Epoch: __ 7\n",
      "Epoch: __ 8\n",
      "Epoch: __ 9\n"
     ]
    }
   ],
   "source": [
    "tf.keras.backend.clear_session()\n",
    "\n",
    "### Hyperparameters\n",
    "num_epochs = 10\n",
    "learning_rate = 0.1\n",
    "running_average_factor = 0.95\n",
    "\n",
    "# Initialize the model.\n",
    "model = Model()\n",
    "# Initialize the loss: categorical cross entropy. Check out 'tf.keras.losses'.\n",
    "cross_entropy_loss = tf.keras.losses.CategoricalCrossentropy()\n",
    "# Initialize the optimizer: Adam with default parameters. Check out 'tf.keras.optimizers'\n",
    "optimizer = tf.keras.optimizers.SGD(learning_rate)\n",
    "\n",
    "# Initialize lists for later visualization.\n",
    "train_losses = []\n",
    "\n",
    "test_losses = []\n",
    "test_accuracies = []\n",
    "\n",
    "#testing once before we begin\n",
    "test_loss, test_accuracy = test(model, test_ds, cross_entropy_loss)\n",
    "test_losses.append(test_loss)\n",
    "test_accuracies.append(test_accuracy)\n",
    "\n",
    "#check how model performs on train data once before we begin\n",
    "train_loss, _ = test(model, train_ds, cross_entropy_loss)\n",
    "train_losses.append(train_loss)\n",
    "\n",
    "# We train for num_epochs epochs.\n",
    "for epoch in range(num_epochs):\n",
    "    print('Epoch: __ ' + str(epoch))\n",
    "\n",
    "    train_dataset = train_ds.shuffle(buffer_size=128)\n",
    "    test_dataset = test_ds.shuffle(buffer_size=128)\n",
    "\n",
    "    #training (and checking in with training)\n",
    "    running_average = 0\n",
    "    for (input,target) in train_ds:\n",
    "        train_loss = train_step(model, input, target, cross_entropy_loss, optimizer)\n",
    "        running_average = running_average_factor * running_average  + (1 - running_average_factor) * train_loss\n",
    "    train_losses.append(running_average)\n",
    "\n",
    "    #testing\n",
    "    test_loss, test_accuracy = test(model, test_ds, cross_entropy_loss)\n",
    "    test_losses.append(test_loss)\n",
    "    test_accuracies.append(test_accuracy)"
   ]
  },
  {
   "cell_type": "code",
   "execution_count": 20,
   "metadata": {},
   "outputs": [
    {
     "data": {
      "image/png": "[encoded data removed]",
      "text/plain": [
       "<Figure size 432x288 with 1 Axes>"
      ]
     },
     "metadata": {
      "needs_background": "light"
     },
     "output_type": "display_data"
    },
    {
     "data": {
      "image/png": "[encoded data removed]",
      "text/plain": [
       "<Figure size 432x288 with 1 Axes>"
      ]
     },
     "metadata": {
      "needs_background": "light"
     },
     "output_type": "display_data"
    }
   ],
   "source": [
    "# Visualize accuracy and loss for training and test data. \n",
    "# One plot training and test loss.\n",
    "# One plot training and test accuracy.\n",
    "plt.figure()\n",
    "line1, = plt.plot(train_losses)\n",
    "line2, = plt.plot(test_losses)\n",
    "plt.xlabel(\"Training steps\")\n",
    "plt.ylabel(\"Loss\")\n",
    "plt.legend((line1,line2),(\"training\",\"test\"))\n",
    "plt.show()\n",
    "\n",
    "plt.figure()\n",
    "line1, = plt.plot(test_accuracies)\n",
    "plt.xlabel(\"Training steps\")\n",
    "plt.ylabel(\"Accuracy\")\n",
    "plt.show()"
   ]
  },
  {
   "cell_type": "code",
   "execution_count": 21,
   "metadata": {},
   "outputs": [],
   "source": [
    "# Save the weights (or not the accuracy is not presentable)\n",
    "model.save_weights('genomics_ood-.35.h5')"
   ]
  },
  {
   "cell_type": "code",
   "execution_count": null,
   "metadata": {},
   "outputs": [],
   "source": []
  }
 ],
 "metadata": {
  "colab": {
   "authorship_tag": "ABX9TyPs8FZ97mlUmyYTO50tXbAp",
   "collapsed_sections": [],
   "name": "Homework03.ipynb",
   "provenance": []
  },
  "kernelspec": {
   "display_name": "tfcourseKernel",
   "language": "python",
   "name": "tfcoursekernel"
  },
  "language_info": {
   "codemirror_mode": {
    "name": "ipython",
    "version": 3
   },
   "file_extension": ".py",
   "mimetype": "text/x-python",
   "name": "python",
   "nbconvert_exporter": "python",
   "pygments_lexer": "ipython3",
   "version": "3.7.9"
  }
 },
 "nbformat": 4,
 "nbformat_minor": 1
}
