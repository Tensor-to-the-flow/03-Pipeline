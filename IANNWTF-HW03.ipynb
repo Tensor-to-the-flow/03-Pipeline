{
  "nbformat": 4,
  "nbformat_minor": 0,
  "metadata": {
    "kernelspec": {
      "display_name": "Python 3",
      "language": "python",
      "name": "python3"
    },
    "language_info": {
      "codemirror_mode": {
        "name": "ipython",
        "version": 3
      },
      "file_extension": ".py",
      "mimetype": "text/x-python",
      "name": "python",
      "nbconvert_exporter": "python",
      "pygments_lexer": "ipython3",
      "version": "3.7.3"
    },
    "colab": {
      "name": "Tensorflow_Intro.ipynb",
      "provenance": [],
      "collapsed_sections": [],
      "history_visible": true
    },
    "accelerator": "GPU"
  },
  "cells": [
    {
      "cell_type": "code",
      "metadata": {
        "id": "bvCeupatKuau"
      },
      "source": [
        "import numpy as np\n",
        "%tensorflow_version 2.x\n",
        "import tensorflow as tf\n",
        "import matplotlib.pyplot as plt\n",
        "import tensorflow_datasets as tfds"
      ],
      "execution_count": 5,
      "outputs": []
    },
    {
      "cell_type": "markdown",
      "metadata": {
        "id": "R6_rej9sKua2"
      },
      "source": [
        "### Load the dataset.\n",
        "We take out a bunch of examples for our network.  The whole dataset contains 1 million training examples and 100.000 test examples. We only use the first 100.000 examples from the \"train\" data for training and the first 1000 examples from the \"test\" data for testing and store them in separate variables."
      ]
    },
    {
      "cell_type": "code",
      "metadata": {
        "id": "bnWWVWvuKua3"
      },
      "source": [
        "# In this homework we will work with the genomics_ood dataset.\n",
        "(train_dataset), (test_dataset) = tfds.load(\"genomics_ood\",split=[\"train\"[:100000],\"test\"[:1000]],as_supervised=True)"
      ],
      "execution_count": 15,
      "outputs": []
    },
    {
      "cell_type": "markdown",
      "metadata": {
        "id": "fhGhX7Lop_pz"
      },
      "source": [
        "Let's see if we can get insights into the shape and data types of the components of our loaded datasets' elements..."
      ]
    },
    {
      "cell_type": "code",
      "metadata": {
        "id": "jPr8DRAwmps-",
        "outputId": "287ab54c-1d49-4772-d649-888b5fdf889a",
        "colab": {
          "base_uri": "https://localhost:8080/"
        }
      },
      "source": [
        "# We can inspect properties of our freshly loaded datasets\n",
        "print(train_dataset.element_spec)\n",
        "print(str(test_dataset.element_spec) + \"\\n\")\n",
        "\n",
        "# We will see that we cannot inspect the shape of the gene-sequence and target labels in our data yet.\n",
        "# This is so, because we loaded the dataset as a Prefetch-Dataset.\n",
        "# We may gain insights into the elements' shape after operating on them in the preprocessing step (scroll down).\n",
        "print(\"Shapes and data types of the gene-sequence and target class labels after loading:\")\n",
        "# try to take one sample from our training data and inspect(print) the shape of its components\n",
        "for sequence, target in train_dataset.take(1):\n",
        "  print(\"Training data:\")\n",
        "  print(\"gene sequence shape: \" + str(sequence.shape) + \", \" + str(sequence.dtype))\n",
        "  print(\"target label: \" + str(target.shape) + \", \" + str(target.dtype))\n",
        "# do the same for the test data\n",
        "for sequence, target in test_dataset.take(1):\n",
        "  print(\"Test data:\")\n",
        "  print(\"gene sequence: \" + str(sequence.shape) + \", \" + str(sequence.dtype))\n",
        "  print(\"target label: \" + str(target.shape) + \", \" + str(target.dtype))"
      ],
      "execution_count": 7,
      "outputs": [
        {
          "output_type": "stream",
          "text": [
            "(TensorSpec(shape=(), dtype=tf.string, name=None), TensorSpec(shape=(), dtype=tf.int64, name=None))\n",
            "(TensorSpec(shape=(), dtype=tf.string, name=None), TensorSpec(shape=(), dtype=tf.int64, name=None))\n",
            "\n",
            "Shapes and data types of the gene-sequence and target class labels after loading:\n",
            "Training data:\n",
            "gene sequence shape: (), <dtype: 'string'>\n",
            "target label: (), <dtype: 'int64'>\n",
            "Test data:\n",
            "gene sequence: (), <dtype: 'string'>\n",
            "target label: (), <dtype: 'int64'>\n"
          ],
          "name": "stdout"
        }
      ]
    },
    {
      "cell_type": "markdown",
      "metadata": {
        "id": "uUvHpuoLKubF"
      },
      "source": [
        "### Preprocess the dataset.\n",
        "\n",
        "The genomic sequences come as string-tensor (as we saw above) which are not so handy to work with. Instead, we would like to have the genomic sequence with one-hot-vectors for encoding the nucleotides (A, C, G, T). But because the sequences are string tensors, we cannot simply call tf.onehot (x, 4) on them.  \n",
        "\n",
        "Therefore, we define a function which converts the string tensor (containing the gene sequence) into a usable tensor that contains the one-hot-encoded sequence."
      ]
    },
    {
      "cell_type": "code",
      "metadata": {
        "id": "5xJP9MysrIPP"
      },
      "source": [
        "# function that yields a tensor with onehot number encodings for the \n",
        "# gene-sequence-string input tensor (as loaded from the genomics_ood dataset)\n",
        "def onehotify(geneseq):\n",
        "  # dict containing mappings from strings {A,C,G,T} to numbers {1,2,3,0}\n",
        "  string_mapping = {\"A\": \"0\", \"C\": \"1\", \"G\": \"2\", \"T\": \"3\"}\n",
        "  # iterate over the key(=string) elements in the dict\n",
        "  for key in string_mapping.keys():\n",
        "    # in the geneseq tensor, replace all matches of each string-key \n",
        "    # from the string_mapping dictionaryin with its associated value(number)\n",
        "    geneseq = tf.strings.regex_replace(geneseq, key, string_mapping[key])\n",
        "  # split resulting strings in the tensor into bytes\n",
        "  splitted_geneseq = tf.strings.bytes_split(geneseq)\n",
        "  # cast the splitted string elements in the tensor to numeric dtype\n",
        "  numeric_geneseq = tf.cast(tf.strings.to_number(splitted_geneseq), tf.uint8)\n",
        "  # create a onehot encoded sequence from the now numeric input\n",
        "  # use a depth of 4, since each element is one of {0,1,2,3} (4 possible values)\n",
        "  geneseq_onehot = tf.one_hot(numeric_geneseq, 4)\n",
        "  # in the end we need the tensor as only one row\n",
        "  # -1 means that the length in that dimension is inferred, while the number of \n",
        "  # elements must remain the same\n",
        "  geneseq_onehot = tf.reshape(geneseq_onehot, (-1,))\n",
        "  # return the string-element-wise now one-hot encoded numeric tensor\n",
        "  return geneseq_onehot"
      ],
      "execution_count": 16,
      "outputs": []
    },
    {
      "cell_type": "markdown",
      "metadata": {
        "id": "9-X8MfmNKubL"
      },
      "source": [
        "### Build the TensorFlow dataset: Input pipeline\n",
        "\n",
        "Now we can convert the loaded data into a usable (one-hot encoded vector) format for our network. For each of the loaded samples in the training and testing dataset, we apply our conversion function from above to the gene_sequence part of the sample and use the pre-defined tf.one_hot function for one-hot encoding the target class labels."
      ]
    },
    {
      "cell_type": "code",
      "metadata": {
        "id": "FLM7HbgIMWA9"
      },
      "source": [
        "training_dataset = train_dataset.map(lambda gene_sequence, target_class: (onehotify(gene_sequence), tf.one_hot(target_class,10)))\n",
        "testing_dataset = test_dataset.map(lambda gene_sequence ,target_class: (onehotify(gene_sequence), tf.one_hot(target_class,10)))"
      ],
      "execution_count": 17,
      "outputs": []
    },
    {
      "cell_type": "markdown",
      "metadata": {
        "id": "zPYkiWQHn1ps"
      },
      "source": [
        "Now we can again have a look at the components of our datasets after preprocessing, since the shape of the gene sequence and the target labels should have changed by the preprocessing. To control this, we again take one sample from the training and test datasets, each."
      ]
    },
    {
      "cell_type": "code",
      "metadata": {
        "id": "rbn73OFejWqC",
        "outputId": "9f433edc-6c9b-4ff9-cc73-177d647f9d48",
        "colab": {
          "base_uri": "https://localhost:8080/"
        }
      },
      "source": [
        "# make sure whether we are still dealing with instances of tf.data.Dataset after all our operations\n",
        "assert isinstance(training_dataset, tf.data.Dataset)\n",
        "assert isinstance(testing_dataset, tf.data.Dataset)\n",
        "\n",
        "# Inspect the properties of our datasets again\n",
        "print(training_dataset.element_spec)\n",
        "print(str(testing_dataset.element_spec) + \"\\n\")\n",
        "\n",
        "# Inspect the shape and data types of the gene-sequence and target labels after preprocessing\n",
        "print(\"Shapes and data types of the gene-sequence and target class labels after preprocessing:\")\n",
        "\n",
        "for sequence, target in training_dataset.take(1):\n",
        "  print(\"Training data:\")\n",
        "  # should be 250 (no. original string elements) * 4 (numeric one-hot encodig) = 1000\n",
        "  print(\"One-hot encoded gene sequence: \" + str(sequence.shape)+ \", \" + str(sequence.dtype))\n",
        "  # should be 10 (one-hot encoding of the 10 different class labels)\n",
        "  print(\"One-hot encoded target label: \" + str(target.shape)+ \", \" + str(target.dtype))\n",
        "\n",
        "for sequence, target in testing_dataset.take(1):\n",
        "  print(\"Test data:\")\n",
        "  # should be 250 (no. original string elements) * 4 (numeric one-hot encodig) = 1000\n",
        "  print(\"One-hot encoded gene sequence: \" + str(sequence.shape)+ \", \" + str(sequence.dtype))\n",
        "  # should be 10 (one-hot encoding of the 10 different class labels)\n",
        "  print(\"One-hot encoded target label: \" + str(target.shape)+ \", \" + str(target.dtype))"
      ],
      "execution_count": 10,
      "outputs": [
        {
          "output_type": "stream",
          "text": [
            "(TensorSpec(shape=(None,), dtype=tf.float32, name=None), TensorSpec(shape=(10,), dtype=tf.float32, name=None))\n",
            "(TensorSpec(shape=(None,), dtype=tf.float32, name=None), TensorSpec(shape=(10,), dtype=tf.float32, name=None))\n",
            "\n",
            "Shapes and data types of the gene-sequence and target class labels after preprocessing:\n",
            "Training data:\n",
            "One-hot encoded gene sequence: (1000,), <dtype: 'float32'>\n",
            "One-hot encoded target label: (10,), <dtype: 'float32'>\n",
            "Test data:\n",
            "One-hot encoded gene sequence: (1000,), <dtype: 'float32'>\n",
            "One-hot encoded target label: (10,), <dtype: 'float32'>\n"
          ],
          "name": "stdout"
        }
      ]
    },
    {
      "cell_type": "markdown",
      "metadata": {
        "id": "KR1kHn5Hnaka"
      },
      "source": [
        "Finally, we organize our training and test datasets into batches of 256 or 128 elements, respectively, and prefetch one sample from each dataset.\n"
      ]
    },
    {
      "cell_type": "code",
      "metadata": {
        "id": "hmo6do2djPtD"
      },
      "source": [
        "training_dataset = training_dataset.batch(256)\n",
        "training_dataset = training_dataset.prefetch(buffer_size=1)\n",
        "\n",
        "testing_dataset = testing_dataset.batch(128)\n",
        "testing_dataset = testing_dataset.prefetch(buffer_size=1)"
      ],
      "execution_count": 18,
      "outputs": []
    },
    {
      "cell_type": "markdown",
      "metadata": {
        "id": "xmvHHSSJKubU"
      },
      "source": [
        "### Build the model.\n",
        "\n",
        "We implemented a simple fully connected feed forward neural network like the last time.  Our network has the following layers:\n",
        "\n",
        "* Hidden layer 1:  256 units.  With sigmoid activation function.\n",
        "* Hidden layer 2:  256 units.  With sigmoid activation function.\n",
        "* Output:  10 units.  With softmax activation function.\n",
        "\n",
        "Instead of implementing our own layer we directly implement the network using pre-built layers from TensorFlow (keras)."
      ]
    },
    {
      "cell_type": "code",
      "metadata": {
        "id": "0AxSFiVmKubV"
      },
      "source": [
        "from tensorflow.keras import Model\n",
        "from tensorflow.keras.layers import Layer\n",
        "\n",
        "class Model(Model): \n",
        "    \n",
        "    def __init__(self):\n",
        "        super(Model, self).__init__()\n",
        "        # Define the three layers.\n",
        "        # Dense implements the operation: output = activation(dot(input, kernel) + bias) \n",
        "        # Hidden layer 1: 256 units. With sigmoid activation function.\n",
        "        self.hidden_layer_1 = tf.keras.layers.Dense(units=256,\n",
        "                                               activation=tf.keras.activations.sigmoid\n",
        "                                               )\n",
        "        # Hidden layer 2: 256 units. With sigmoid activation function.\n",
        "        self.hidden_layer_2 = tf.keras.layers.Dense(units=256,\n",
        "                                               activation=tf.keras.activations.sigmoid\n",
        "                                               )\n",
        "        # Output: 10 units. With softmax activation function.\n",
        "        self.output_layer = tf.keras.layers.Dense(units=10,\n",
        "                                               activation=tf.keras.activations.softmax\n",
        "                                               )\n",
        "    def call(self, x):\n",
        "        # Define the forward step.\n",
        "        x = self.hidden_layer_1(x)\n",
        "        x = self.hidden_layer_2(x)\n",
        "        x = self.output_layer(x)\n",
        "        return x"
      ],
      "execution_count": 19,
      "outputs": []
    },
    {
      "cell_type": "markdown",
      "metadata": {
        "id": "VkEDZdIMKubZ"
      },
      "source": [
        "### Train the model.\n",
        "\n",
        "For the training loop we used the MNIST notebook on Courseware as orientation. We compute the loss and accuracy of each step with the running average, as it is done in the MNIST notebook.\n",
        "\n",
        "First, we define the helper functions for training and testing which we will use later in the training loop and testing procedure. Notice that the train_step is performed on a single element of the training dataset, whereas we test over a complete test dataset at once by looping over its elements and compute the loss and accuracy for each to return the respective means afterwards."
      ]
    },
    {
      "cell_type": "code",
      "metadata": {
        "id": "SVg42aU_xGpK"
      },
      "source": [
        "def train_step(model, input, target, loss_function, optimizer):\n",
        "  # loss_object and optimizer_object are instances of respective tensorflow classes\n",
        "  # training_accuracy_aggregator = []\n",
        "  with tf.GradientTape() as tape:\n",
        "    prediction = model(input)\n",
        "    train_loss = loss_function(target, prediction)\n",
        "    sample_training_accuracy =  np.argmax(target, axis=1) == np.argmax(prediction, axis=1)\n",
        "    sample_training_accuracy = np.mean(sample_training_accuracy)\n",
        "    gradients = tape.gradient(train_loss, model.trainable_variables)\n",
        "  optimizer.apply_gradients(zip(gradients, model.trainable_variables))\n",
        "  return train_loss , sample_training_accuracy\n",
        "\n",
        "def test(model, test_data, loss_function):\n",
        "  # test over complete test data\n",
        "  test_accuracy_aggregator = []\n",
        "  test_loss_aggregator = []\n",
        "\n",
        "  for (input, target) in test_data:\n",
        "    prediction = model(input)\n",
        "    sample_test_loss = loss_function(target, prediction)\n",
        "    sample_test_accuracy =  np.argmax(target, axis=1) == np.argmax(prediction, axis=1)\n",
        "    sample_test_accuracy = np.mean(sample_test_accuracy)\n",
        "    test_loss_aggregator.append(sample_test_loss.numpy())\n",
        "    test_accuracy_aggregator.append(np.mean(sample_test_accuracy))\n",
        "\n",
        "  test_loss = np.mean(test_loss_aggregator)\n",
        "  test_accuracy = np.mean(test_accuracy_aggregator)\n",
        "\n",
        "  return test_loss, test_accuracy"
      ],
      "execution_count": 20,
      "outputs": []
    },
    {
      "cell_type": "markdown",
      "metadata": {
        "id": "Mbm5Hql9EZCJ"
      },
      "source": [
        "Now we can train our network for 10 epochs using a learning rate of 0.1.  As a loss we use the categorical cross entropy. As an optimizer we use SGD (standard gradient descent)."
      ]
    },
    {
      "cell_type": "code",
      "metadata": {
        "id": "wLUw0EhkKuba",
        "outputId": "f9329e92-ac46-4b90-87aa-0ce8bdae18f0",
        "colab": {
          "base_uri": "https://localhost:8080/"
        }
      },
      "source": [
        "tf.keras.backend.clear_session()\n",
        "\n",
        "### Hyperparameters\n",
        "num_epochs = 10\n",
        "learning_rate = 0.1\n",
        "running_average_factor = 0.95\n",
        "\n",
        "# Initialize the model.\n",
        "model = Model()\n",
        "# Initialize the loss: categorical cross entropy. Check out 'tf.keras.losses'.\n",
        "cross_entropy_loss = tf.keras.losses.CategoricalCrossentropy()\n",
        "# Initialize the optimizer: Adam with default parameters. Check out 'tf.keras.optimizers'\n",
        "optimizer = tf.keras.optimizers.SGD(learning_rate)\n",
        "\n",
        "# Initialize lists for later visualization.\n",
        "train_losses = []\n",
        "train_accuracies = []\n",
        "\n",
        "test_losses = []\n",
        "test_accuracies = []\n",
        "\n",
        "#testing once before we begin\n",
        "test_loss, test_accuracy = test(model, testing_dataset, cross_entropy_loss)\n",
        "test_losses.append(test_loss)\n",
        "test_accuracies.append(test_accuracy)\n",
        "\n",
        "#check how model performs on train data once before we begin\n",
        "train_loss, _ = test(model, training_dataset, cross_entropy_loss)\n",
        "train_losses.append(train_loss)\n",
        "\n",
        "# We train for num_epochs epochs.\n",
        "for epoch in range(num_epochs):\n",
        "    print('Epoch: __ ' + str(epoch))\n",
        "\n",
        "    training_dataset = training_dataset.shuffle(buffer_size=256)\n",
        "    testing_dataset = testing_dataset.shuffle(buffer_size=128)\n",
        "\n",
        "    #training (and checking in with training)\n",
        "    running_average_loss = 0\n",
        "    running_average_accuracy = 0\n",
        "    for (input,target) in training_dataset:\n",
        "        train_loss, train_accuracy = train_step(model, input, target, cross_entropy_loss, optimizer)\n",
        "        running_average_loss = running_average_factor * running_average_loss  + (1 - running_average_factor) * train_loss\n",
        "        running_average_accuracy = running_average_factor * running_average_accuracy  + (1 - running_average_factor) * train_accuracy\n",
        "    \n",
        "    train_losses.append(running_average_loss)\n",
        "    train_accuracies.append(running_average_accuracy)\n",
        "\n",
        "    #testing\n",
        "    test_loss, test_accuracy = test(model, testing_dataset, cross_entropy_loss)\n",
        "    test_losses.append(test_loss)\n",
        "    test_accuracies.append(test_accuracy)\n",
        "\n"
      ],
      "execution_count": 21,
      "outputs": [
        {
          "output_type": "stream",
          "text": [
            "Epoch: __ 0\n",
            "Epoch: __ 1\n",
            "Epoch: __ 2\n",
            "Epoch: __ 3\n",
            "Epoch: __ 4\n",
            "Epoch: __ 5\n",
            "Epoch: __ 6\n",
            "Epoch: __ 7\n",
            "Epoch: __ 8\n",
            "Epoch: __ 9\n"
          ],
          "name": "stdout"
        }
      ]
    },
    {
      "cell_type": "markdown",
      "metadata": {
        "id": "Dc-tahx4Kubd"
      },
      "source": [
        "### Visualize the training progress."
      ]
    },
    {
      "cell_type": "code",
      "metadata": {
        "scrolled": false,
        "id": "_19Jebu2Kube",
        "outputId": "942f1d1e-ccd2-4b01-8559-5ed62ef2539c",
        "colab": {
          "base_uri": "https://localhost:8080/",
          "height": 579
        }
      },
      "source": [
        "# Visualize loss and accuracy for training and test data. \n",
        "# One plot for training and test loss.\n",
        "plt.figure()\n",
        "line1, = plt.plot(train_losses, linewidth = 2)\n",
        "line2, = plt.plot(test_losses, linestyle = 'dashed', linewidth = 2)\n",
        "plt.xlabel(\"Training steps (epochs)\", fontsize = 12)\n",
        "plt.ylabel(\"Loss\", fontsize = 12)\n",
        "plt.legend((line1,line2),(\"Training\",\"Test\"), fontsize = 14)\n",
        "plt.title(\"Loss for training and test data\")\n",
        "plt.show()\n",
        "# One plot for training and test accuracy.\n",
        "plt.figure()\n",
        "line1, = plt.plot(train_accuracies, linestyle = 'dashed', color = 'green', linewidth = 2)\n",
        "line2, = plt.plot(test_accuracies, color = 'red', linewidth = 2)\n",
        "plt.xlabel(\"Training steps (epochs)\", fontsize = 12)\n",
        "plt.ylabel(\"Accuracy in %\", fontsize = 12)\n",
        "plt.legend((line1,line2),(\"Training\",\"Test\"), fontsize = 14)\n",
        "plt.title(\"Performance on training and test data\")\n",
        "plt.show()\n"
      ],
      "execution_count": 22,
      "outputs": [
        {
          "output_type": "display_data",
          "data": {
            "image/png": "[encoded data removed]",
            "text/plain": [
              "<Figure size 432x288 with 1 Axes>"
            ]
          },
          "metadata": {
            "tags": [],
            "needs_background": "light"
          }
        },
        {
          "output_type": "display_data",
          "data": {
            "image/png": "[encoded data removed]",
            "text/plain": [
              "<Figure size 432x288 with 1 Axes>"
            ]
          },
          "metadata": {
            "tags": [],
            "needs_background": "light"
          }
        }
      ]
    },
    {
      "cell_type": "markdown",
      "metadata": {
        "id": "Oc0px5ZJhD33"
      },
      "source": [
        "## Saving Model\n",
        "Now that we have seen that our model performs pretty well, we might want to save all the parameters that it has learnt now and use it again later. For subclassed models you will need to use the function **save_weights()** and store it in a .h5 or .hdf5 format. "
      ]
    },
    {
      "cell_type": "code",
      "metadata": {
        "id": "lCfeKMu6y2xs"
      },
      "source": [
        "model.save_weights('genomics_ood_mlp.h5')"
      ],
      "execution_count": 23,
      "outputs": []
    },
    {
      "cell_type": "markdown",
      "metadata": {
        "id": "Yo37lt9riSSs"
      },
      "source": [
        "The next time we can load it again. You will first have to create the new model and call it, so it can create the variables, before you can insert weights into them."
      ]
    },
    {
      "cell_type": "code",
      "metadata": {
        "id": "l9ngwfDcicaX"
      },
      "source": [
        "new_model = model.load_weights('genomics_ood_mlp.h5')"
      ],
      "execution_count": 24,
      "outputs": []
    }
  ]
}